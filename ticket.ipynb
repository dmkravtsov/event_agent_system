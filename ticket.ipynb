{
 "cells": [
  {
   "cell_type": "code",
   "execution_count": null,
   "metadata": {},
   "outputs": [
    {
     "ename": "",
     "evalue": "",
     "output_type": "error",
     "traceback": [
      "\u001b[1;31mRunning cells with 'venv (Python 3.11.3)' requires the ipykernel package.\n",
      "\u001b[1;31mRun the following command to install 'ipykernel' into the Python environment. \n",
      "\u001b[1;31mCommand: 'c:/Users/Dmitriy/Projects/event_agent_system/venv/Scripts/python.exe -m pip install ipykernel -U --force-reinstall'"
     ]
    }
   ],
   "source": [
    "import requests\n",
    "import json\n",
    "\n",
    "api_key = \"Z01Pv02mcFl1ooLtctTZY3jMHaUb65DG\"  # замените на свой при необходимости\n",
    "\n",
    "url = \"https://app.ticketmaster.com/discovery/v2/events.json\"\n",
    "params = {\n",
    "    \"apikey\": api_key,\n",
    "    \"city\": \"London\",\n",
    "    \"size\": 1,  # только одно событие\n",
    "    \"locale\": \"*\"\n",
    "}\n",
    "\n",
    "response = requests.get(url, params=params)\n",
    "data = response.json()\n",
    "\n",
    "print(data)         "
   ]
  },
  {
   "cell_type": "code",
   "execution_count": null,
   "metadata": {},
   "outputs": [],
   "source": [
    "import requests\n",
    "import json\n",
    "\n",
    "api_key = \"Z01Pv02mcFl1ooLtctTZY3jMHaUb65DG\"  # замените на свой при необходимости\n",
    "\n",
    "url = \"https://app.ticketmaster.com/discovery/v2/events.json\"\n",
    "params = {\n",
    "    \"apikey\": api_key,\n",
    "    \"city\": \"London\",\n",
    "    \"size\": 1,  # только одно событие\n",
    "    \"locale\": \"*\"\n",
    "}\n",
    "\n",
    "response = requests.get(url, params=params)\n",
    "data = response.json()\n",
    "\n",
    "print(data)         "
   ]
  }
 ],
 "metadata": {
  "kernelspec": {
   "display_name": "Python 3",
   "language": "python",
   "name": "python3"
  },
  "language_info": {
   "name": "python",
   "version": "3.11.3"
  }
 },
 "nbformat": 4,
 "nbformat_minor": 2
}
